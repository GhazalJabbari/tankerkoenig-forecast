{
 "cells": [
  {
   "cell_type": "code",
   "execution_count": 5,
   "metadata": {},
   "outputs": [],
   "source": [
    "import pandas as pd\n",
    "import numpy as np\n",
    "import glob\n",
    "import os"
   ]
  },
  {
   "cell_type": "code",
   "execution_count": 9,
   "metadata": {},
   "outputs": [],
   "source": [
    "path = r'C:\\Users\\gjab\\Downloads\\2018\\*'                     # use your path\n",
    "all_files = glob.glob(os.path.join(path, \"*.csv\"))     # advisable to use os.path.join as this makes concatenation OS independent\n",
    "\n",
    "df_from_each_file = (pd.read_csv(f) for f in all_files)\n",
    "concatenated_df   = pd.concat(df_from_each_file, ignore_index=True)\n",
    "# doesn't create a list, nor does it append to one"
   ]
  },
  {
   "cell_type": "code",
   "execution_count": 11,
   "metadata": {},
   "outputs": [
    {
     "data": {
      "text/html": [
       "<div>\n",
       "<style scoped>\n",
       "    .dataframe tbody tr th:only-of-type {\n",
       "        vertical-align: middle;\n",
       "    }\n",
       "\n",
       "    .dataframe tbody tr th {\n",
       "        vertical-align: top;\n",
       "    }\n",
       "\n",
       "    .dataframe thead th {\n",
       "        text-align: right;\n",
       "    }\n",
       "</style>\n",
       "<table border=\"1\" class=\"dataframe\">\n",
       "  <thead>\n",
       "    <tr style=\"text-align: right;\">\n",
       "      <th></th>\n",
       "      <th>date</th>\n",
       "      <th>station_uuid</th>\n",
       "      <th>diesel</th>\n",
       "      <th>e5</th>\n",
       "      <th>e10</th>\n",
       "      <th>dieselchange</th>\n",
       "      <th>e5change</th>\n",
       "      <th>e10change</th>\n",
       "    </tr>\n",
       "  </thead>\n",
       "  <tbody>\n",
       "    <tr>\n",
       "      <th>65544840</th>\n",
       "      <td>2018-12-31 23:59:05+01</td>\n",
       "      <td>ac79f7e6-a993-4d86-b83e-ab75cec4e0e0</td>\n",
       "      <td>1.319</td>\n",
       "      <td>1.399</td>\n",
       "      <td>1.379</td>\n",
       "      <td>1</td>\n",
       "      <td>1</td>\n",
       "      <td>1</td>\n",
       "    </tr>\n",
       "    <tr>\n",
       "      <th>65544841</th>\n",
       "      <td>2018-12-31 23:59:05+01</td>\n",
       "      <td>769e0b9c-1aed-42dc-9099-b8b2f25f6b2f</td>\n",
       "      <td>1.289</td>\n",
       "      <td>1.399</td>\n",
       "      <td>1.379</td>\n",
       "      <td>1</td>\n",
       "      <td>1</td>\n",
       "      <td>1</td>\n",
       "    </tr>\n",
       "    <tr>\n",
       "      <th>65544842</th>\n",
       "      <td>2018-12-31 23:59:05+01</td>\n",
       "      <td>f549406e-de56-4a6a-92ca-51c01a6d9927</td>\n",
       "      <td>1.379</td>\n",
       "      <td>1.499</td>\n",
       "      <td>1.479</td>\n",
       "      <td>1</td>\n",
       "      <td>1</td>\n",
       "      <td>1</td>\n",
       "    </tr>\n",
       "    <tr>\n",
       "      <th>65544843</th>\n",
       "      <td>2018-12-31 23:59:05+01</td>\n",
       "      <td>109195b4-ac2f-4120-ae47-199386e700f6</td>\n",
       "      <td>1.299</td>\n",
       "      <td>1.389</td>\n",
       "      <td>1.369</td>\n",
       "      <td>1</td>\n",
       "      <td>1</td>\n",
       "      <td>1</td>\n",
       "    </tr>\n",
       "    <tr>\n",
       "      <th>65544844</th>\n",
       "      <td>2018-12-31 23:59:05+01</td>\n",
       "      <td>bcba0c2b-fbe7-4447-aacf-6806f1244f6b</td>\n",
       "      <td>1.259</td>\n",
       "      <td>1.359</td>\n",
       "      <td>1.338</td>\n",
       "      <td>1</td>\n",
       "      <td>1</td>\n",
       "      <td>1</td>\n",
       "    </tr>\n",
       "  </tbody>\n",
       "</table>\n",
       "</div>"
      ],
      "text/plain": [
       "                            date                          station_uuid  \\\n",
       "65544840  2018-12-31 23:59:05+01  ac79f7e6-a993-4d86-b83e-ab75cec4e0e0   \n",
       "65544841  2018-12-31 23:59:05+01  769e0b9c-1aed-42dc-9099-b8b2f25f6b2f   \n",
       "65544842  2018-12-31 23:59:05+01  f549406e-de56-4a6a-92ca-51c01a6d9927   \n",
       "65544843  2018-12-31 23:59:05+01  109195b4-ac2f-4120-ae47-199386e700f6   \n",
       "65544844  2018-12-31 23:59:05+01  bcba0c2b-fbe7-4447-aacf-6806f1244f6b   \n",
       "\n",
       "          diesel     e5    e10  dieselchange  e5change  e10change  \n",
       "65544840   1.319  1.399  1.379             1         1          1  \n",
       "65544841   1.289  1.399  1.379             1         1          1  \n",
       "65544842   1.379  1.499  1.479             1         1          1  \n",
       "65544843   1.299  1.389  1.369             1         1          1  \n",
       "65544844   1.259  1.359  1.338             1         1          1  "
      ]
     },
     "execution_count": 11,
     "metadata": {},
     "output_type": "execute_result"
    }
   ],
   "source": [
    "concatenated_df.tail()"
   ]
  },
  {
   "cell_type": "code",
   "execution_count": null,
   "metadata": {},
   "outputs": [],
   "source": []
  }
 ],
 "metadata": {
  "kernelspec": {
   "display_name": "Python 3",
   "language": "python",
   "name": "python3"
  },
  "language_info": {
   "codemirror_mode": {
    "name": "ipython",
    "version": 3
   },
   "file_extension": ".py",
   "mimetype": "text/x-python",
   "name": "python",
   "nbconvert_exporter": "python",
   "pygments_lexer": "ipython3",
   "version": "3.7.2"
  }
 },
 "nbformat": 4,
 "nbformat_minor": 2
}
