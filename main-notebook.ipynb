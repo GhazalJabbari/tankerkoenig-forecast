{
 "cells": [
  {
   "cell_type": "code",
   "execution_count": 1,
   "metadata": {},
   "outputs": [],
   "source": [
    "import pandas as pd\n",
    "import numpy as np\n",
    "import glob\n",
    "import os"
   ]
  },
  {
   "cell_type": "code",
   "execution_count": 2,
   "metadata": {},
   "outputs": [],
   "source": [
    "path = r'C:\\Users\\gjab\\Downloads\\2018\\*'            # use your path\n",
    "all_files = glob.glob(os.path.join(path, \"*.csv\"))  # advisable to use os.path.join as this makes concatenation OS independent\n",
    "\n"
   ]
  },
  {
   "cell_type": "code",
   "execution_count": 3,
   "metadata": {},
   "outputs": [],
   "source": [
    "df_from_each_file = (pd.read_csv(f) for f in all_files)\n",
    "\n"
   ]
  },
  {
   "cell_type": "code",
   "execution_count": 4,
   "metadata": {},
   "outputs": [],
   "source": [
    "concatenated_df   = pd.concat(df_from_each_file, ignore_index=True)\n",
    "# doesn't create a list, nor does it append to one'"
   ]
  },
  {
   "cell_type": "code",
   "execution_count": 6,
   "metadata": {},
   "outputs": [],
   "source": [
    "#concatenated_df.to_csv('concatenated', index=False)"
   ]
  },
  {
   "cell_type": "code",
   "execution_count": 7,
   "metadata": {},
   "outputs": [
    {
     "data": {
      "text/html": [
       "<div>\n",
       "<style scoped>\n",
       "    .dataframe tbody tr th:only-of-type {\n",
       "        vertical-align: middle;\n",
       "    }\n",
       "\n",
       "    .dataframe tbody tr th {\n",
       "        vertical-align: top;\n",
       "    }\n",
       "\n",
       "    .dataframe thead th {\n",
       "        text-align: right;\n",
       "    }\n",
       "</style>\n",
       "<table border=\"1\" class=\"dataframe\">\n",
       "  <thead>\n",
       "    <tr style=\"text-align: right;\">\n",
       "      <th></th>\n",
       "      <th>date</th>\n",
       "      <th>station_uuid</th>\n",
       "      <th>diesel</th>\n",
       "      <th>e5</th>\n",
       "      <th>e10</th>\n",
       "      <th>dieselchange</th>\n",
       "      <th>e5change</th>\n",
       "      <th>e10change</th>\n",
       "    </tr>\n",
       "  </thead>\n",
       "  <tbody>\n",
       "    <tr>\n",
       "      <th>0</th>\n",
       "      <td>2018-01-01 00:01:06+01</td>\n",
       "      <td>011d59f3-9b7f-4000-863b-c3b815099ff4</td>\n",
       "      <td>1.299</td>\n",
       "      <td>1.469</td>\n",
       "      <td>1.449</td>\n",
       "      <td>1</td>\n",
       "      <td>1</td>\n",
       "      <td>1</td>\n",
       "    </tr>\n",
       "    <tr>\n",
       "      <th>1</th>\n",
       "      <td>2018-01-01 00:01:06+01</td>\n",
       "      <td>3e7c0f12-9665-40e2-7c70-d0dfb19314cd</td>\n",
       "      <td>1.249</td>\n",
       "      <td>1.449</td>\n",
       "      <td>1.429</td>\n",
       "      <td>1</td>\n",
       "      <td>1</td>\n",
       "      <td>1</td>\n",
       "    </tr>\n",
       "    <tr>\n",
       "      <th>2</th>\n",
       "      <td>2018-01-01 00:01:06+01</td>\n",
       "      <td>6151509b-91c5-43fe-ed78-a5196b38888c</td>\n",
       "      <td>1.249</td>\n",
       "      <td>1.449</td>\n",
       "      <td>1.429</td>\n",
       "      <td>1</td>\n",
       "      <td>1</td>\n",
       "      <td>1</td>\n",
       "    </tr>\n",
       "    <tr>\n",
       "      <th>3</th>\n",
       "      <td>2018-01-01 00:01:06+01</td>\n",
       "      <td>db9309c1-eb3f-4a2a-92ec-a374262facc9</td>\n",
       "      <td>1.274</td>\n",
       "      <td>0.000</td>\n",
       "      <td>0.000</td>\n",
       "      <td>1</td>\n",
       "      <td>0</td>\n",
       "      <td>0</td>\n",
       "    </tr>\n",
       "    <tr>\n",
       "      <th>4</th>\n",
       "      <td>2018-01-01 00:01:06+01</td>\n",
       "      <td>f51010c6-b9f3-4a0c-b550-72ad3007e24d</td>\n",
       "      <td>1.219</td>\n",
       "      <td>1.419</td>\n",
       "      <td>1.399</td>\n",
       "      <td>1</td>\n",
       "      <td>1</td>\n",
       "      <td>1</td>\n",
       "    </tr>\n",
       "  </tbody>\n",
       "</table>\n",
       "</div>"
      ],
      "text/plain": [
       "                     date                          station_uuid  diesel  \\\n",
       "0  2018-01-01 00:01:06+01  011d59f3-9b7f-4000-863b-c3b815099ff4   1.299   \n",
       "1  2018-01-01 00:01:06+01  3e7c0f12-9665-40e2-7c70-d0dfb19314cd   1.249   \n",
       "2  2018-01-01 00:01:06+01  6151509b-91c5-43fe-ed78-a5196b38888c   1.249   \n",
       "3  2018-01-01 00:01:06+01  db9309c1-eb3f-4a2a-92ec-a374262facc9   1.274   \n",
       "4  2018-01-01 00:01:06+01  f51010c6-b9f3-4a0c-b550-72ad3007e24d   1.219   \n",
       "\n",
       "      e5    e10  dieselchange  e5change  e10change  \n",
       "0  1.469  1.449             1         1          1  \n",
       "1  1.449  1.429             1         1          1  \n",
       "2  1.449  1.429             1         1          1  \n",
       "3  0.000  0.000             1         0          0  \n",
       "4  1.419  1.399             1         1          1  "
      ]
     },
     "execution_count": 7,
     "metadata": {},
     "output_type": "execute_result"
    }
   ],
   "source": [
    "concatenated_df.head()"
   ]
  },
  {
   "cell_type": "code",
   "execution_count": 8,
   "metadata": {},
   "outputs": [],
   "source": [
    "stations = pd.read_csv('C:/Users/gjab/Downloads/stations.csv')"
   ]
  },
  {
   "cell_type": "code",
   "execution_count": 9,
   "metadata": {},
   "outputs": [],
   "source": [
    "stations_info = stations[['uuid','name','brand','latitude','longitude']]"
   ]
  },
  {
   "cell_type": "code",
   "execution_count": 10,
   "metadata": {},
   "outputs": [],
   "source": [
    "df = concatenated_df"
   ]
  },
  {
   "cell_type": "code",
   "execution_count": 11,
   "metadata": {},
   "outputs": [],
   "source": [
    "df = pd.concat([df,stations_info], axis=1)"
   ]
  },
  {
   "cell_type": "code",
   "execution_count": null,
   "metadata": {},
   "outputs": [],
   "source": [
    "#df.describe()"
   ]
  },
  {
   "cell_type": "code",
   "execution_count": 19,
   "metadata": {},
   "outputs": [
    {
     "data": {
      "text/plain": [
       "15258"
      ]
     },
     "execution_count": 19,
     "metadata": {},
     "output_type": "execute_result"
    }
   ],
   "source": [
    "len(df['station_uuid'].unique())"
   ]
  },
  {
   "cell_type": "code",
   "execution_count": 12,
   "metadata": {},
   "outputs": [],
   "source": [
    "df['station count'] = df.groupby('station_uuid')['station_uuid'].transform('count')"
   ]
  },
  {
   "cell_type": "code",
   "execution_count": 13,
   "metadata": {},
   "outputs": [],
   "source": [
    "df_main = df[df['station count'] >= 5963]"
   ]
  },
  {
   "cell_type": "code",
   "execution_count": 14,
   "metadata": {},
   "outputs": [],
   "source": [
    "df_main_upper = df_main[df_main['station count'] >= 7143]"
   ]
  },
  {
   "cell_type": "code",
   "execution_count": 21,
   "metadata": {},
   "outputs": [],
   "source": [
    "df_main_upper.to_csv('station_selected_01.csv', index=False, sep=';')"
   ]
  },
  {
   "cell_type": "code",
   "execution_count": 17,
   "metadata": {},
   "outputs": [
    {
     "data": {
      "text/html": [
       "<div>\n",
       "<style scoped>\n",
       "    .dataframe tbody tr th:only-of-type {\n",
       "        vertical-align: middle;\n",
       "    }\n",
       "\n",
       "    .dataframe tbody tr th {\n",
       "        vertical-align: top;\n",
       "    }\n",
       "\n",
       "    .dataframe thead th {\n",
       "        text-align: right;\n",
       "    }\n",
       "</style>\n",
       "<table border=\"1\" class=\"dataframe\">\n",
       "  <thead>\n",
       "    <tr style=\"text-align: right;\">\n",
       "      <th></th>\n",
       "      <th>date</th>\n",
       "      <th>station_uuid</th>\n",
       "      <th>diesel</th>\n",
       "      <th>e5</th>\n",
       "      <th>e10</th>\n",
       "      <th>dieselchange</th>\n",
       "      <th>e5change</th>\n",
       "      <th>e10change</th>\n",
       "      <th>uuid</th>\n",
       "      <th>name</th>\n",
       "      <th>brand</th>\n",
       "      <th>latitude</th>\n",
       "      <th>longitude</th>\n",
       "      <th>station count</th>\n",
       "    </tr>\n",
       "  </thead>\n",
       "  <tbody>\n",
       "    <tr>\n",
       "      <th>10</th>\n",
       "      <td>2018-01-01 00:02:06+01</td>\n",
       "      <td>910350b2-d6e2-4549-b53e-af11743c088e</td>\n",
       "      <td>1.279</td>\n",
       "      <td>1.469</td>\n",
       "      <td>1.449</td>\n",
       "      <td>0</td>\n",
       "      <td>1</td>\n",
       "      <td>1</td>\n",
       "      <td>005056ba-7cb6-1ed2-bceb-bc577a5e6d4e</td>\n",
       "      <td>star Tankstelle</td>\n",
       "      <td>STAR</td>\n",
       "      <td>53.749730</td>\n",
       "      <td>9.680620</td>\n",
       "      <td>8646</td>\n",
       "    </tr>\n",
       "    <tr>\n",
       "      <th>60</th>\n",
       "      <td>2018-01-01 00:14:06+01</td>\n",
       "      <td>4176b515-3dcc-4e45-8cef-b4e970d89c39</td>\n",
       "      <td>1.319</td>\n",
       "      <td>1.479</td>\n",
       "      <td>1.459</td>\n",
       "      <td>1</td>\n",
       "      <td>1</td>\n",
       "      <td>1</td>\n",
       "      <td>3c57e143-470c-4130-b8ea-0a775e5f081c</td>\n",
       "      <td>KAUFBEUREN, SUDETENSTRAßE.</td>\n",
       "      <td>Shell</td>\n",
       "      <td>47.898714</td>\n",
       "      <td>10.644375</td>\n",
       "      <td>7471</td>\n",
       "    </tr>\n",
       "    <tr>\n",
       "      <th>74</th>\n",
       "      <td>2018-01-01 00:19:06+01</td>\n",
       "      <td>6bfa04d1-b1c5-468b-b465-4e7bdee41a39</td>\n",
       "      <td>1.339</td>\n",
       "      <td>1.489</td>\n",
       "      <td>1.469</td>\n",
       "      <td>0</td>\n",
       "      <td>1</td>\n",
       "      <td>1</td>\n",
       "      <td>484aeb02-e77e-4fab-9a12-1162370e091e</td>\n",
       "      <td>Aral Tankstelle</td>\n",
       "      <td>ARAL</td>\n",
       "      <td>51.066890</td>\n",
       "      <td>6.991081</td>\n",
       "      <td>7743</td>\n",
       "    </tr>\n",
       "    <tr>\n",
       "      <th>79</th>\n",
       "      <td>2018-01-01 00:23:06+01</td>\n",
       "      <td>199f83f7-ffb0-4060-9729-32ac93d2c898</td>\n",
       "      <td>1.299</td>\n",
       "      <td>1.459</td>\n",
       "      <td>1.439</td>\n",
       "      <td>1</td>\n",
       "      <td>1</td>\n",
       "      <td>1</td>\n",
       "      <td>49b56e87-1419-4560-bf2b-2b5e72ee2f28</td>\n",
       "      <td>rhv Tankstelle</td>\n",
       "      <td>Raiffeisen</td>\n",
       "      <td>50.851398</td>\n",
       "      <td>9.725596</td>\n",
       "      <td>7269</td>\n",
       "    </tr>\n",
       "    <tr>\n",
       "      <th>116</th>\n",
       "      <td>2018-01-01 00:42:06+01</td>\n",
       "      <td>66882ed5-67ff-45c0-8098-240b4b10aa7b</td>\n",
       "      <td>1.259</td>\n",
       "      <td>1.409</td>\n",
       "      <td>1.369</td>\n",
       "      <td>1</td>\n",
       "      <td>1</td>\n",
       "      <td>1</td>\n",
       "      <td>60abebe5-e51d-4bf1-a96b-f4b9a17dfa49</td>\n",
       "      <td>Aral Tankstelle</td>\n",
       "      <td>ARAL</td>\n",
       "      <td>47.738570</td>\n",
       "      <td>9.598375</td>\n",
       "      <td>7190</td>\n",
       "    </tr>\n",
       "  </tbody>\n",
       "</table>\n",
       "</div>"
      ],
      "text/plain": [
       "                       date                          station_uuid  diesel  \\\n",
       "10   2018-01-01 00:02:06+01  910350b2-d6e2-4549-b53e-af11743c088e   1.279   \n",
       "60   2018-01-01 00:14:06+01  4176b515-3dcc-4e45-8cef-b4e970d89c39   1.319   \n",
       "74   2018-01-01 00:19:06+01  6bfa04d1-b1c5-468b-b465-4e7bdee41a39   1.339   \n",
       "79   2018-01-01 00:23:06+01  199f83f7-ffb0-4060-9729-32ac93d2c898   1.299   \n",
       "116  2018-01-01 00:42:06+01  66882ed5-67ff-45c0-8098-240b4b10aa7b   1.259   \n",
       "\n",
       "        e5    e10  dieselchange  e5change  e10change  \\\n",
       "10   1.469  1.449             0         1          1   \n",
       "60   1.479  1.459             1         1          1   \n",
       "74   1.489  1.469             0         1          1   \n",
       "79   1.459  1.439             1         1          1   \n",
       "116  1.409  1.369             1         1          1   \n",
       "\n",
       "                                     uuid                        name  \\\n",
       "10   005056ba-7cb6-1ed2-bceb-bc577a5e6d4e             star Tankstelle   \n",
       "60   3c57e143-470c-4130-b8ea-0a775e5f081c  KAUFBEUREN, SUDETENSTRAßE.   \n",
       "74   484aeb02-e77e-4fab-9a12-1162370e091e             Aral Tankstelle   \n",
       "79   49b56e87-1419-4560-bf2b-2b5e72ee2f28              rhv Tankstelle   \n",
       "116  60abebe5-e51d-4bf1-a96b-f4b9a17dfa49             Aral Tankstelle   \n",
       "\n",
       "          brand   latitude  longitude  station count  \n",
       "10         STAR  53.749730   9.680620           8646  \n",
       "60        Shell  47.898714  10.644375           7471  \n",
       "74         ARAL  51.066890   6.991081           7743  \n",
       "79   Raiffeisen  50.851398   9.725596           7269  \n",
       "116        ARAL  47.738570   9.598375           7190  "
      ]
     },
     "execution_count": 17,
     "metadata": {},
     "output_type": "execute_result"
    }
   ],
   "source": [
    "df_main_upper.head()"
   ]
  },
  {
   "cell_type": "code",
   "execution_count": 22,
   "metadata": {},
   "outputs": [
    {
     "data": {
      "text/plain": [
       "530"
      ]
     },
     "execution_count": 22,
     "metadata": {},
     "output_type": "execute_result"
    }
   ],
   "source": [
    "len(df_main_upper['station_uuid'].unique())"
   ]
  },
  {
   "cell_type": "code",
   "execution_count": 23,
   "metadata": {},
   "outputs": [
    {
     "name": "stdout",
     "output_type": "stream",
     "text": [
      "<class 'pandas.core.frame.DataFrame'>\n",
      "Int64Index: 4101881 entries, 10 to 65544844\n",
      "Data columns (total 14 columns):\n",
      "date             object\n",
      "station_uuid     object\n",
      "diesel           float64\n",
      "e5               float64\n",
      "e10              float64\n",
      "dieselchange     int64\n",
      "e5change         int64\n",
      "e10change        int64\n",
      "uuid             object\n",
      "name             object\n",
      "brand            object\n",
      "latitude         float64\n",
      "longitude        float64\n",
      "station count    int64\n",
      "dtypes: float64(5), int64(4), object(5)\n",
      "memory usage: 469.4+ MB\n"
     ]
    }
   ],
   "source": [
    "df_main_upper.info()"
   ]
  },
  {
   "cell_type": "code",
   "execution_count": null,
   "metadata": {},
   "outputs": [],
   "source": [
    "#len(df_main_upper['station_uuid'].unique())"
   ]
  },
  {
   "cell_type": "code",
   "execution_count": null,
   "metadata": {},
   "outputs": [],
   "source": [
    "#df_main_upper.head()"
   ]
  },
  {
   "cell_type": "code",
   "execution_count": null,
   "metadata": {},
   "outputs": [],
   "source": [
    "#stations.head()"
   ]
  },
  {
   "cell_type": "code",
   "execution_count": null,
   "metadata": {},
   "outputs": [],
   "source": [
    "\n"
   ]
  },
  {
   "cell_type": "code",
   "execution_count": null,
   "metadata": {},
   "outputs": [],
   "source": [
    "#stations_info.head()"
   ]
  },
  {
   "cell_type": "code",
   "execution_count": null,
   "metadata": {},
   "outputs": [],
   "source": [
    "#df_all = pd.merge(df_main_upper, stations_info, on= 'uuid', how='right')\n",
    "#df_all = pd.concat([df_main_upper,stations_info], axis=1)\n",
    "#pd.concat(objs, axis=0, join='outer', join_axes=None, ignore_index=False,\n",
    "#          keys=None, levels=None, names=None, verify_integrity=False,\n",
    "#          copy=True)"
   ]
  },
  {
   "cell_type": "code",
   "execution_count": null,
   "metadata": {},
   "outputs": [],
   "source": [
    "#df_all = df_all.dropna(axis=0)"
   ]
  },
  {
   "cell_type": "code",
   "execution_count": null,
   "metadata": {},
   "outputs": [],
   "source": [
    "df_all.info()"
   ]
  },
  {
   "cell_type": "code",
   "execution_count": null,
   "metadata": {},
   "outputs": [],
   "source": [
    "df_all.head(100)"
   ]
  },
  {
   "cell_type": "code",
   "execution_count": null,
   "metadata": {},
   "outputs": [],
   "source": []
  }
 ],
 "metadata": {
  "kernelspec": {
   "display_name": "Python 3",
   "language": "python",
   "name": "python3"
  },
  "language_info": {
   "codemirror_mode": {
    "name": "ipython",
    "version": 3
   },
   "file_extension": ".py",
   "mimetype": "text/x-python",
   "name": "python",
   "nbconvert_exporter": "python",
   "pygments_lexer": "ipython3",
   "version": "3.7.2"
  }
 },
 "nbformat": 4,
 "nbformat_minor": 2
}
